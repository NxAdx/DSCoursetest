{
  "cells": [
    {
      "cell_type": "markdown",
      "metadata": {},
      "source": [
        "<center>\n",
        "    <img src=\"https://blogger.googleusercontent.com/img/a/AVvXsEjvBfWGtriY0WxtJmeMKrBsmJpB5nSDYjpj2DfRRYCeRhA_kd82pM9OpubDrcmaCPCNAWyLluGT6l2A7J5HB1UGaCKmXUp19RVDlNNNMC2mftn1yBw2pkc3XqefMEm1Z-Y5eSkgPTsenZHFa0Gg5PmPc2Eop-xhwGJMbY2odpEj8vUth7SsFcTCMp9d=s826\" width=\"100\" alt=\"cognitiveclass.ai logo\"  />\n",
        "</center>\n"
      ]
    },
    {
      "cell_type": "code",
      "execution_count": null,
      "metadata": {},
      "outputs": [],
      "source": [
        "i=1\n",
        "for i in range(4):\n",
        "    print(i)\n"
      ]
    },
    {
      "cell_type": "code",
      "execution_count": 7,
      "metadata": {
        "trusted": true
      },
      "outputs": [
        {
          "name": "stdout",
          "output_type": "stream",
          "text": [
            "Hello\n",
            "167\n"
          ]
        }
      ],
      "source": [
        "print(\"Hello\")\n",
        "print(89+78)"
      ]
    },
    {
      "cell_type": "markdown",
      "metadata": {
        "tags": []
      },
      "source": [
        "# This notebook is all about practice"
      ]
    },
    {
      "cell_type": "code",
      "execution_count": null,
      "metadata": {},
      "outputs": [],
      "source": []
    },
    {
      "cell_type": "code",
      "execution_count": 6,
      "metadata": {
        "trusted": true
      },
      "outputs": [],
      "source": [
        "print(\"hello! how are you?\")\n",
        "\n"
      ]
    }
  ],
  "metadata": {
    "interpreter": {
      "hash": "477971c3fe7543e943c512627760a2502c803938127ec47edc6aa98fdb78c13e"
    },
    "kernelspec": {
      "display_name": "Pyolite",
      "language": "python",
      "name": "python3"
    },
    "language_info": {
      "codemirror_mode": {
        "name": "python",
        "version": 3
      },
      "file_extension": ".py",
      "mimetype": "text/x-python",
      "name": "python",
      "nbconvert_exporter": "python",
      "pygments_lexer": "ipython3",
      "version": "3.10.4"
    }
  },
  "nbformat": 4,
  "nbformat_minor": 4
}
